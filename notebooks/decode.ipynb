{
 "cells": [
  {
   "cell_type": "code",
   "execution_count": 1,
   "metadata": {},
   "outputs": [],
   "source": [
    "import sys\n",
    "sys.path.append('..')\n",
    "import numpy as np\n",
    "import torch\n",
    "from tqdm import trange\n",
    "from IPython.display import Video\n",
    "from utils.video import write_video, transpose_and_clip\n",
    "from utils.vqvae import Decoder, CompressorConfig"
   ]
  },
  {
   "cell_type": "code",
   "execution_count": 2,
   "metadata": {},
   "outputs": [],
   "source": [
    "# load model\n",
    "config = CompressorConfig()\n",
    "with torch.device('meta'):\n",
    "  decoder = Decoder(config)\n",
    "decoder.load_state_dict_from_url('https://huggingface.co/commaai/commavq-gpt2m/resolve/main/decoder_pytorch_model.bin', assign=True)\n",
    "decoder = decoder.eval().to(device='cuda')"
   ]
  },
  {
   "cell_type": "code",
   "execution_count": 3,
   "metadata": {},
   "outputs": [],
   "source": [
    "# load tokens\n",
    "tokens = np.load(\"../examples/tokens.npy\").astype(np.int64)\n",
    "tokens = torch.from_numpy(tokens).to(device='cuda')"
   ]
  },
  {
   "cell_type": "code",
   "execution_count": 4,
   "metadata": {},
   "outputs": [
    {
     "name": "stderr",
     "output_type": "stream",
     "text": [
      "100%|██████████| 1200/1200 [00:31<00:00, 37.69it/s]\n"
     ]
    }
   ],
   "source": [
    "# decoding loop\n",
    "decoded_video = []\n",
    "with torch.no_grad():\n",
    "  for i in trange(len(tokens)):\n",
    "    decoded = decoder(tokens[i][None])\n",
    "    decoded_video.append(decoded)\n",
    "decoded_video = torch.cat(decoded_video, dim=0).cpu().numpy()"
   ]
  },
  {
   "cell_type": "code",
   "execution_count": 5,
   "metadata": {},
   "outputs": [],
   "source": [
    "# transpose and format video\n",
    "decoded_video = transpose_and_clip(decoded_video)"
   ]
  },
  {
   "cell_type": "code",
   "execution_count": 6,
   "metadata": {},
   "outputs": [
    {
     "data": {
      "text/html": [
       "<video controls  width=\"700\" >\n",
       " <source src=\"data:None;base64,commavq/tmp/decoded.mp4\" type=\"None\">\n",
       " Your browser does not support the video tag.\n",
       " </video>"
      ],
      "text/plain": [
       "<IPython.core.display.Video object>"
      ]
     },
     "execution_count": 6,
     "metadata": {},
     "output_type": "execute_result"
    }
   ],
   "source": [
    "# save video\n",
    "save_dst = 'commavq/tmp/decoded.mp4'\n",
    "write_video(decoded_video, save_dst, fps=20)\n",
    "Video(save_dst, embed=True, width=700)"
   ]
  }
 ],
 "metadata": {
  "kernelspec": {
   "display_name": "Python 3",
   "language": "python",
   "name": "python3"
  },
  "language_info": {
   "codemirror_mode": {
    "name": "ipython",
    "version": 3
   },
   "file_extension": ".py",
   "mimetype": "text/x-python",
   "name": "python",
   "nbconvert_exporter": "python",
   "pygments_lexer": "ipython3",
   "version": "3.10.14"
  },
  "orig_nbformat": 4
 },
 "nbformat": 4,
 "nbformat_minor": 2
}
